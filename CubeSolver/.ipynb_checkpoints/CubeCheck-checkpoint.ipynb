{
 "cells": [
  {
   "cell_type": "markdown",
   "metadata": {},
   "source": [
    "# Cube Implementation Check"
   ]
  },
  {
   "cell_type": "markdown",
   "metadata": {},
   "source": [
    "This notebook imports the cube class and do some simple checks.\n",
    "Since [ruwix](https://ruwix.com/online-puzzle-simulators/2x2x2-pocket-cube-simulator.php) already has a very nice 2D interface, it's recommended to double check the text outputs here together with some simple button clicks there. Note that lowercase letters (f) here correspond to the uppercase letters with a prime (F') in the ruwix website.\n",
    "(green, blue, orange, red, white and yellow are denoted with their initial letters)"
   ]
  },
  {
   "cell_type": "code",
   "execution_count": 1,
   "metadata": {
    "collapsed": false
   },
   "outputs": [],
   "source": [
    "import Cube as C"
   ]
  },
  {
   "cell_type": "code",
   "execution_count": 2,
   "metadata": {
    "collapsed": false
   },
   "outputs": [
    {
     "name": "stdout",
     "output_type": "stream",
     "text": [
      "F :  g g g g \n",
      "B :  b b b b \n",
      "L :  o o o o \n",
      "R :  r r r r \n",
      "U :  w w w w \n",
      "D :  y y y y \n"
     ]
    }
   ],
   "source": [
    "## initialization, default color layout\n",
    "myCube = C.Cube()\n",
    "myCube.info()"
   ]
  },
  {
   "cell_type": "code",
   "execution_count": 3,
   "metadata": {
    "collapsed": false
   },
   "outputs": [
    {
     "name": "stdout",
     "output_type": "stream",
     "text": [
      "F :  g g g g \n",
      "B :  b b b b \n",
      "L :  o y y o \n",
      "R :  w r r w \n",
      "U :  w w o o \n",
      "D :  r r y y \n"
     ]
    }
   ],
   "source": [
    "## rotate the front face clockwise 90 degrees, check the faces\n",
    "myCube.rotate('F',1)\n",
    "myCube.info()"
   ]
  },
  {
   "cell_type": "code",
   "execution_count": 4,
   "metadata": {
    "collapsed": false
   },
   "outputs": [
    {
     "name": "stdout",
     "output_type": "stream",
     "text": [
      "F :  g g g g \n",
      "B :  b b b b \n",
      "L :  o o o o \n",
      "R :  r r r r \n",
      "U :  w w w w \n",
      "D :  y y y y \n"
     ]
    }
   ],
   "source": [
    "## reset method returns the Cube to its original state\n",
    "myCube.reset()\n",
    "myCube.info()"
   ]
  },
  {
   "cell_type": "code",
   "execution_count": 5,
   "metadata": {
    "collapsed": false
   },
   "outputs": [
    {
     "name": "stdout",
     "output_type": "stream",
     "text": [
      "True\n"
     ]
    }
   ],
   "source": [
    "## take a new Cube, rotate each face clockwise then counter-clockwise 90 degrees shouldn't change the Cube\n",
    "newCube = C.Cube()\n",
    "newCube.do('FfBbLlRrUuDd')\n",
    "print newCube.eq(myCube)"
   ]
  },
  {
   "cell_type": "code",
   "execution_count": 6,
   "metadata": {
    "collapsed": false
   },
   "outputs": [
    {
     "name": "stdout",
     "output_type": "stream",
     "text": [
      "True\n",
      "True\n",
      "True\n"
     ]
    }
   ],
   "source": [
    "## as long as each face of a Cube has same colors, we consider it to be good\n",
    "## thus rotating the whole Cube or a single face 360 degrees should result in \"good\" Cubes\n",
    "print myCube.do('Fb').good()\n",
    "print myCube.do('rR').good()\n",
    "print myCube.do('UUUU').good()"
   ]
  }
 ],
 "metadata": {
  "anaconda-cloud": {},
  "kernelspec": {
   "display_name": "Python [conda root]",
   "language": "python",
   "name": "conda-root-py"
  },
  "language_info": {
   "codemirror_mode": {
    "name": "ipython",
    "version": 2
   },
   "file_extension": ".py",
   "mimetype": "text/x-python",
   "name": "python",
   "nbconvert_exporter": "python",
   "pygments_lexer": "ipython2",
   "version": "2.7.12"
  }
 },
 "nbformat": 4,
 "nbformat_minor": 1
}
